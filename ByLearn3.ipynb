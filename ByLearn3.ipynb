{
  "nbformat": 4,
  "nbformat_minor": 0,
  "metadata": {
    "colab": {
      "name": "ByLearn3.ipynb",
      "provenance": []
    },
    "kernelspec": {
      "name": "python3",
      "display_name": "Python 3"
    }
  },
  "cells": [
    {
      "cell_type": "markdown",
      "metadata": {
        "id": "ykIYqxbFc5XZ"
      },
      "source": [
        "# Condicionais\n",
        "\n",
        "Principal forma de atribuir uma lógica ao seu código.\n",
        "\n",
        "Basicamente é uma tomada de decisão caso a condição seja verdadeira.\n",
        "\n",
        "Ex:\n",
        "\n",
        "- Se o dia estiver quente:\n",
        "   - Vai tomar um sorvete\n",
        "   - Vai para a praia\n",
        "\n",
        "- Do contrario (se não)\n",
        "  - Comer um chocolate\n",
        "  - Maratonar\n",
        "  "
      ]
    },
    {
      "cell_type": "code",
      "metadata": {
        "id": "ngQXxvxPdbsK",
        "outputId": "548144d1-c64a-4bdc-8612-60ab9bd162a6",
        "colab": {
          "base_uri": "https://localhost:8080/"
        }
      },
      "source": [
        "temperatura = 'frio'\n",
        "\n",
        "print(temperatura) "
      ],
      "execution_count": null,
      "outputs": [
        {
          "output_type": "stream",
          "text": [
            "frio\n"
          ],
          "name": "stdout"
        }
      ]
    },
    {
      "cell_type": "code",
      "metadata": {
        "id": "_cmNsBLwdidZ",
        "outputId": "d3ef9dc3-9733-452a-96b4-f760dd96a6c2",
        "colab": {
          "base_uri": "https://localhost:8080/"
        }
      },
      "source": [
        "if temperatura == 'quente':\n",
        "  print('Vai tomar um sorvete')\n",
        "  print('Vai para a praia') \n",
        "else:\n",
        "  print('Vai comer um chocolate') \n",
        "  print('Vai assistir série')\n",
        "   "
      ],
      "execution_count": null,
      "outputs": [
        {
          "output_type": "stream",
          "text": [
            "Vai comer um chocolate\n",
            "Vai assistir série\n"
          ],
          "name": "stdout"
        }
      ]
    },
    {
      "cell_type": "code",
      "metadata": {
        "id": "43op-tlfd-k9",
        "outputId": "73fb389f-59bf-4a35-8d02-6559a1c6c35d",
        "colab": {
          "base_uri": "https://localhost:8080/"
        }
      },
      "source": [
        "horario = 'tarde'\n",
        "\n",
        "if horario == 'manhã':\n",
        "  print('O sol está quente')\n",
        "elif horario == 'tarde':\n",
        "  print('O por do sol esta chegando')\n",
        "else:\n",
        "  print('A lua esta linda')\n",
        "  print('Esta na hora da jornada')"
      ],
      "execution_count": null,
      "outputs": [
        {
          "output_type": "stream",
          "text": [
            "O por do sol esta chegando\n"
          ],
          "name": "stdout"
        }
      ]
    },
    {
      "cell_type": "code",
      "metadata": {
        "id": "U465wAwGemte",
        "outputId": "6eb3defb-1a69-444e-a71a-13e9bc9854f0",
        "colab": {
          "base_uri": "https://localhost:8080/"
        }
      },
      "source": [
        "idade = 16\n",
        "\n",
        "if idade >= 18:\n",
        "  print('Você ja pode beber')\n",
        "else:\n",
        "  print('Você não pode beber')"
      ],
      "execution_count": null,
      "outputs": [
        {
          "output_type": "stream",
          "text": [
            "Você não pode beber\n"
          ],
          "name": "stdout"
        }
      ]
    },
    {
      "cell_type": "code",
      "metadata": {
        "id": "xzCY-vlnfHNs",
        "outputId": "814f3cc0-0f90-4372-dd4d-6538b0ccfcda",
        "colab": {
          "base_uri": "https://localhost:8080/"
        }
      },
      "source": [
        "temperatura = 37\n",
        "\n",
        "if temperatura <= 30:\n",
        "  print('Aceitavel')\n",
        "else:\n",
        "  print('Socorro, esta muito quente')"
      ],
      "execution_count": null,
      "outputs": [
        {
          "output_type": "stream",
          "text": [
            "Socorro, esta muito quente\n"
          ],
          "name": "stdout"
        }
      ]
    },
    {
      "cell_type": "code",
      "metadata": {
        "id": "uM4i48DXfY3I",
        "outputId": "00e4941b-0b73-42d1-87c1-62211c3203f7",
        "colab": {
          "base_uri": "https://localhost:8080/"
        }
      },
      "source": [
        "altura = 1.72\n",
        "\n",
        "if altura < 1.80:\n",
        "  print('Voce é baixinho')\n",
        "else:\n",
        "  print('Você é alto')"
      ],
      "execution_count": null,
      "outputs": [
        {
          "output_type": "stream",
          "text": [
            "Você é alto\n"
          ],
          "name": "stdout"
        }
      ]
    },
    {
      "cell_type": "code",
      "metadata": {
        "id": "R3_bY1cSfrAy",
        "outputId": "55fcc1c7-2765-44d9-efca-f8ab723a64e7",
        "colab": {
          "base_uri": "https://localhost:8080/"
        }
      },
      "source": [
        "quente = True\n",
        "gosta_de_praia = False\n",
        "Chocolate_Quente = True\n",
        "\n",
        "if quente == True:\n",
        "  print('Esta quente')\n",
        "  if gosta_de_praia == True:\n",
        "    print('Va para a praia')\n",
        "  else:\n",
        "    print('Não va a praia')\n",
        "else:\n",
        "  print('Esta frio')\n",
        "  if Chocolate_Quente == True:\n",
        "     print('toma um chocolate quente')\n",
        "  else:\n",
        "    print('Não tome chocolate quente')"
      ],
      "execution_count": null,
      "outputs": [
        {
          "output_type": "stream",
          "text": [
            "Esta quente\n",
            "Não va a praia\n"
          ],
          "name": "stdout"
        }
      ]
    },
    {
      "cell_type": "code",
      "metadata": {
        "id": "AQABdjAKgVGp",
        "outputId": "63b84b12-2062-4376-a6af-0f0d52cf6ac9",
        "colab": {
          "base_uri": "https://localhost:8080/",
          "height": 129
        }
      },
      "source": [
        "dia = 'domingo'\n",
        "\n",
        "if dia == 'sabado':\n",
        "  print('É fim de semana')\n",
        "elif dia == 'domingo':\n",
        "  print('É fim de semana')\n",
        "else"
      ],
      "execution_count": null,
      "outputs": [
        {
          "output_type": "error",
          "ename": "SyntaxError",
          "evalue": "ignored",
          "traceback": [
            "\u001b[0;36m  File \u001b[0;32m\"<ipython-input-23-81832a0cf9cb>\"\u001b[0;36m, line \u001b[0;32m7\u001b[0m\n\u001b[0;31m    else\u001b[0m\n\u001b[0m        ^\u001b[0m\n\u001b[0;31mSyntaxError\u001b[0m\u001b[0;31m:\u001b[0m invalid syntax\n"
          ]
        }
      ]
    },
    {
      "cell_type": "code",
      "metadata": {
        "id": "JuqER8wohVqW",
        "outputId": "4ac1ca59-558d-4157-a222-47e2b7d2fa57",
        "colab": {
          "base_uri": "https://localhost:8080/",
          "height": 34
        }
      },
      "source": [
        "# 1, 3, 6 e 10 => Válido\n",
        "# qualquer outro => Inválido\n",
        "\n",
        "numero = 6\n",
        "\n",
        "if numero == 1:\n",
        "  print('é valido')\n",
        "elif numero == 3:\n",
        "  print('é valido')\n",
        "elif numero == 6:\n",
        "  print('é valido')\n",
        "elif numero == 10:\n",
        "  print('é valido')\n",
        "else:\n",
        "  print('é invalido')"
      ],
      "execution_count": null,
      "outputs": [
        {
          "output_type": "stream",
          "text": [
            "é valido\n"
          ],
          "name": "stdout"
        }
      ]
    },
    {
      "cell_type": "markdown",
      "metadata": {
        "id": "udTfiE7YiO1f"
      },
      "source": [
        "# Operadores lógicos\n",
        "\n",
        "Servem para fazer uma condição composta\n",
        "\n",
        "E => Ambas precisam ser verdade\n",
        "Ou => Pelo menos uma precisa ser verdade\n",
        "\n",
        "Ex\n",
        " -Se for de manhã E estiver sol\n",
        " -Se for sabado ou domingo\n",
        "\n",
        "E =>AND\n",
        "OU => OUR"
      ]
    },
    {
      "cell_type": "code",
      "metadata": {
        "id": "D1OXz7eOjJMj",
        "outputId": "37f33ffe-6a17-43b2-d4ec-9eaba50af7de",
        "colab": {
          "base_uri": "https://localhost:8080/"
        }
      },
      "source": [
        "# 1, 3, 6 e 10 => Válido\n",
        "# qualquer outro => Inválido\n",
        "\n",
        "numero = 111\n",
        "\n",
        "if numero == 1:\n",
        "  print('é valido')\n",
        "elif numero == 3:\n",
        "  print('é valido')\n",
        "elif numero == 6:\n",
        "  print('é valido')\n",
        "elif numero == 10:\n",
        "  print('é valido')\n",
        "else:\n",
        "  print('é invalido')"
      ],
      "execution_count": null,
      "outputs": [
        {
          "output_type": "stream",
          "text": [
            "é invalido\n"
          ],
          "name": "stdout"
        }
      ]
    },
    {
      "cell_type": "code",
      "metadata": {
        "id": "mDThiywtitEM",
        "outputId": "44d53b99-08c7-4700-c9f4-7d45e5ba3857",
        "colab": {
          "base_uri": "https://localhost:8080/",
          "height": 54
        }
      },
      "source": [
        "print('   1     /   2    /     3    /    ')\n",
        "numero = 3\n",
        "\n",
        "if numero == 1 or numero == 3 or numero == 6 or numero == 10:\n",
        "   print('É valido')\n",
        "else:\n",
        "   print('É invalido')"
      ],
      "execution_count": 9,
      "outputs": [
        {
          "output_type": "stream",
          "text": [
            "   1     /   2    /     3    /    \n",
            "É valido\n"
          ],
          "name": "stdout"
        }
      ]
    },
    {
      "cell_type": "code",
      "metadata": {
        "id": "cBHkXt4Hjg5A",
        "outputId": "3494c612-62c4-4059-8076-ddb33d2909ca",
        "colab": {
          "base_uri": "https://localhost:8080/"
        }
      },
      "source": [
        "horario = 'manha'\n",
        "sol = True\n",
        "\n",
        "if horario == 'manha' and sol == True:\n",
        "  print('Esta ensolarado') "
      ],
      "execution_count": null,
      "outputs": [
        {
          "output_type": "stream",
          "text": [
            "Esta ensolarado\n"
          ],
          "name": "stdout"
        }
      ]
    },
    {
      "cell_type": "code",
      "metadata": {
        "id": "xSAdB-DUj47S",
        "outputId": "66f81c16-dec2-4103-f60c-122550acdd4a",
        "colab": {
          "base_uri": "https://localhost:8080/"
        }
      },
      "source": [
        "Meu_nome = 'Joao'\n",
        "nome = input('Digite seu nome: ')\n",
        "\n",
        "Meu_Sobrenome = 'Gabriel'\n",
        "sobrenome = input('Digite seu sobrenome: ')\n",
        "\n",
        "if nome == Meu_nome and sobrenome == Meu_Sobrenome:\n",
        "  print('Você é o Joao Gabriel')\n",
        "else:\n",
        "  print('Você não é o Joao Gabriel')"
      ],
      "execution_count": null,
      "outputs": [
        {
          "output_type": "stream",
          "text": [
            "Digite seu nome: Joao\n",
            "Digite seu sobrenome: Gabriel\n",
            "Você é o Joao Gabriel\n"
          ],
          "name": "stdout"
        }
      ]
    },
    {
      "cell_type": "markdown",
      "metadata": {
        "id": "Ngj_KVRHkv3Y"
      },
      "source": [
        "\n",
        "\n",
        "# Laços de repetição\n",
        "\n",
        "É uma forma de evitar repetição de código\n",
        "\n",
        "Ele vai \"executar n vezes\" uma operação\".\n",
        "\n",
        "n => quantidade de vezes definida.\n",
        "\n",
        "\n"
      ]
    },
    {
      "cell_type": "code",
      "metadata": {
        "id": "NQiaCv0mksBm",
        "outputId": "58d3cca2-9c1d-4ed2-fd16-3c48586e03d8",
        "colab": {
          "base_uri": "https://localhost:8080/"
        }
      },
      "source": [
        "# De 1 até 10 vamos printar todos os numeros\n",
        "print(1)\n",
        "print(2)\n",
        "print(3)\n",
        "print(4)\n",
        "print(5)\n",
        "print(6)\n",
        "print(7)\n",
        "print(8)\n",
        "print(9)\n",
        "print(10)\n",
        "# Na programação o minimo (1) é INCLUSIVO => Ele existe\n",
        "# Ja o maximo (10) é EXCLUSIVO => Ele não existe\n",
        "\n"
      ],
      "execution_count": null,
      "outputs": [
        {
          "output_type": "stream",
          "text": [
            "1\n",
            "2\n",
            "3\n",
            "4\n",
            "5\n",
            "6\n",
            "7\n",
            "8\n",
            "9\n",
            "10\n"
          ],
          "name": "stdout"
        }
      ]
    },
    {
      "cell_type": "code",
      "metadata": {
        "id": "VGVEgrIgk_BS",
        "outputId": "216321b7-20d3-4de5-ed92-da75702dc2a2",
        "colab": {
          "base_uri": "https://localhost:8080/"
        }
      },
      "source": [
        "for numero in range(1,10):\n",
        " print(numero)"
      ],
      "execution_count": null,
      "outputs": [
        {
          "output_type": "stream",
          "text": [
            "1\n",
            "2\n",
            "3\n",
            "4\n",
            "5\n",
            "6\n",
            "7\n",
            "8\n",
            "9\n"
          ],
          "name": "stdout"
        }
      ]
    },
    {
      "cell_type": "markdown",
      "metadata": {
        "id": "sY2gDSKgmWfl"
      },
      "source": [
        "For => Nossa palavra chave para repetiçãp.\n",
        "\n",
        "Variavel => O dado que estamos trabalhando no momento atual.\n",
        "\n",
        "In => Nossa palavra chave para \"onde vamos repetir?\"\n",
        "\n",
        "Intervalo/sequencia => O que vamos repetir"
      ]
    },
    {
      "cell_type": "code",
      "metadata": {
        "id": "MN67PK1hmRJz",
        "outputId": "10d0ab10-b85a-422d-c70d-fda2660c304d",
        "colab": {
          "base_uri": "https://localhost:8080/"
        }
      },
      "source": [
        "for numero in range(5):\n",
        "  print(numero)\n",
        "\n",
        "\n",
        "#    for      numero      in    range(5)\n",
        "# para cada   numero      no    intervalo até 5"
      ],
      "execution_count": null,
      "outputs": [
        {
          "output_type": "stream",
          "text": [
            "0\n",
            "1\n",
            "2\n",
            "3\n",
            "4\n"
          ],
          "name": "stdout"
        }
      ]
    },
    {
      "cell_type": "code",
      "metadata": {
        "id": "1_b7usAlnPZa",
        "outputId": "5c0f15db-9eb0-42b9-c14e-8edefd5384ef",
        "colab": {
          "base_uri": "https://localhost:8080/"
        }
      },
      "source": [
        "for numero in range(1, 11):\n",
        "  print('O numero atual é:', numero)"
      ],
      "execution_count": null,
      "outputs": [
        {
          "output_type": "stream",
          "text": [
            "O numero atual é: 1\n",
            "O numero atual é: 2\n",
            "O numero atual é: 3\n",
            "O numero atual é: 4\n",
            "O numero atual é: 5\n",
            "O numero atual é: 6\n",
            "O numero atual é: 7\n",
            "O numero atual é: 8\n",
            "O numero atual é: 9\n",
            "O numero atual é: 10\n"
          ],
          "name": "stdout"
        }
      ]
    },
    {
      "cell_type": "code",
      "metadata": {
        "id": "KuJdfdGSnbCB",
        "outputId": "466fd846-d211-4e84-f189-8639274d0b5c",
        "colab": {
          "base_uri": "https://localhost:8080/"
        }
      },
      "source": [
        "for numero in range(1, 11):\n",
        "  print('O numero atual é:', numero)\n",
        "  if numero == 5:\n",
        "    print('é o numero 5')\n",
        "  if numero == 2:\n",
        "    print('é o numero 2')\n",
        "  if numero == 3:\n",
        "    print('é o numero 3')\n"
      ],
      "execution_count": null,
      "outputs": [
        {
          "output_type": "stream",
          "text": [
            "O numero atual é: 1\n",
            "O numero atual é: 2\n",
            "é o numero 2\n",
            "O numero atual é: 3\n",
            "é o numero 3\n",
            "O numero atual é: 4\n",
            "O numero atual é: 5\n",
            "é o numero 5\n",
            "O numero atual é: 6\n",
            "O numero atual é: 7\n",
            "O numero atual é: 8\n",
            "O numero atual é: 9\n",
            "O numero atual é: 10\n"
          ],
          "name": "stdout"
        }
      ]
    },
    {
      "cell_type": "code",
      "metadata": {
        "id": "XdKTT7Awn5wi",
        "outputId": "f6d557ac-2f81-46e6-a7d2-ac07c8d07161",
        "colab": {
          "base_uri": "https://localhost:8080/"
        }
      },
      "source": [
        "texto = 'Não trava o zap dos amigos'\n",
        " \n",
        "for vez in range(20):\n",
        "  print(vez, texto)"
      ],
      "execution_count": null,
      "outputs": [
        {
          "output_type": "stream",
          "text": [
            "0 Não trava o zap dos amigos\n",
            "1 Não trava o zap dos amigos\n",
            "2 Não trava o zap dos amigos\n",
            "3 Não trava o zap dos amigos\n",
            "4 Não trava o zap dos amigos\n",
            "5 Não trava o zap dos amigos\n",
            "6 Não trava o zap dos amigos\n",
            "7 Não trava o zap dos amigos\n",
            "8 Não trava o zap dos amigos\n",
            "9 Não trava o zap dos amigos\n",
            "10 Não trava o zap dos amigos\n",
            "11 Não trava o zap dos amigos\n",
            "12 Não trava o zap dos amigos\n",
            "13 Não trava o zap dos amigos\n",
            "14 Não trava o zap dos amigos\n",
            "15 Não trava o zap dos amigos\n",
            "16 Não trava o zap dos amigos\n",
            "17 Não trava o zap dos amigos\n",
            "18 Não trava o zap dos amigos\n",
            "19 Não trava o zap dos amigos\n"
          ],
          "name": "stdout"
        }
      ]
    },
    {
      "cell_type": "code",
      "metadata": {
        "id": "cldGNilloLBP"
      },
      "source": [
        "nomes = ['Joao', 'juliana','silvana']"
      ],
      "execution_count": null,
      "outputs": []
    },
    {
      "cell_type": "code",
      "metadata": {
        "id": "mkADymzaoqwS",
        "outputId": "91e489bc-cbd8-40f8-90a6-e5a679b60787",
        "colab": {
          "base_uri": "https://localhost:8080/"
        }
      },
      "source": [
        "for nome in nomes:\n",
        "  print('O nome atual é', nome)\n",
        "  if nome == 'Joao':\n",
        "    print('(Ou zarcky)')"
      ],
      "execution_count": null,
      "outputs": [
        {
          "output_type": "stream",
          "text": [
            "O nome atual é Joao\n",
            "(Ou zarcky)\n",
            "O nome atual é juliana\n",
            "O nome atual é silvana\n"
          ],
          "name": "stdout"
        }
      ]
    },
    {
      "cell_type": "code",
      "metadata": {
        "id": "UN9OiJ19o_S1",
        "outputId": "f128b094-4680-4fcc-ab22-a3f8bd683be1",
        "colab": {
          "base_uri": "https://localhost:8080/"
        }
      },
      "source": [
        "notas = [6, 7.5, 9, 10, 3, 5]\n",
        "\n",
        "soma = 0\n",
        "\n",
        "for nota in notas:\n",
        "  soma = soma + nota\n",
        "\n",
        "print('A soma é', soma)\n",
        "\n",
        "media = soma / len(notas)\n",
        "\n",
        "print('A média é', media)"
      ],
      "execution_count": null,
      "outputs": [
        {
          "output_type": "stream",
          "text": [
            "A soma é 40.5\n",
            "A média é 6.75\n"
          ],
          "name": "stdout"
        }
      ]
    },
    {
      "cell_type": "code",
      "metadata": {
        "id": "8D2xXQncpcVj",
        "outputId": "8a69200f-13f4-4e67-c3cc-202b0e3f1bb7",
        "colab": {
          "base_uri": "https://localhost:8080/"
        }
      },
      "source": [
        "# len => Tamanho em ingles\n",
        "    # 1 2\n",
        "notas = [6, 7.5]\n",
        "len(notas)\n",
        "\n",
        "# range = intervalo em ingles\n",
        "# range(1, 10) => intervalo de 1 até 10"
      ],
      "execution_count": null,
      "outputs": [
        {
          "output_type": "execute_result",
          "data": {
            "text/plain": [
              "2"
            ]
          },
          "metadata": {
            "tags": []
          },
          "execution_count": 72
        }
      ]
    },
    {
      "cell_type": "code",
      "metadata": {
        "id": "FG7qlxCZr19J",
        "outputId": "8a932176-a615-4e52-cb07-ff644781b5de",
        "colab": {
          "base_uri": "https://localhost:8080/"
        }
      },
      "source": [
        "lista1 = ['A', 'B', 'C']\n",
        "lista2 = [1, 2, 3, 4, 5]\n",
        "\n",
        "tam_lista1 = len(lista1)\n",
        "tam_lista2 = len(lista2)\n",
        "\n",
        "print(tam_lista1)\n",
        "print(tam_lista2)"
      ],
      "execution_count": null,
      "outputs": [
        {
          "output_type": "stream",
          "text": [
            "3\n",
            "5\n"
          ],
          "name": "stdout"
        }
      ]
    },
    {
      "cell_type": "markdown",
      "metadata": {
        "id": "LGZyuyZ8qn0f"
      },
      "source": [
        "# Função\n",
        "\n",
        "Toda função é uma rotina\n",
        "\n",
        "Eu defino (def) uma rotina e a executo quantas vezes quiser.\n",
        "\n",
        "é uma excelente forma de deixar o codigo dinamico e sem repetição.\n",
        "\n"
      ]
    },
    {
      "cell_type": "code",
      "metadata": {
        "id": "Mi8nBQbzse-L",
        "outputId": "782ec7dc-a822-4812-c478-be893de9a379",
        "colab": {
          "base_uri": "https://localhost:8080/"
        }
      },
      "source": [
        "# Definindo a função\n",
        "def nome_funcao():\n",
        "  # Código da funcao\n",
        "  print('codigo da função')\n",
        "\n",
        "# Chamando a função\n",
        "nome_funcao()"
      ],
      "execution_count": null,
      "outputs": [
        {
          "output_type": "stream",
          "text": [
            "codigo da função\n"
          ],
          "name": "stdout"
        }
      ]
    },
    {
      "cell_type": "code",
      "metadata": {
        "id": "M52uQZ7wszGA",
        "outputId": "f4fd9cb4-4ec0-45fb-8a9c-b51a4f71998e",
        "colab": {
          "base_uri": "https://localhost:8080/"
        }
      },
      "source": [
        "def mostrar_nome():\n",
        "  print('Joao gabriel')\n",
        "  print('gabriel')\n",
        "  \n",
        "mostrar_nome()\n",
        "mostrar_nome()"
      ],
      "execution_count": null,
      "outputs": [
        {
          "output_type": "stream",
          "text": [
            "Joao gabriel\n",
            "gabriel\n",
            "Joao gabriel\n",
            "gabriel\n"
          ],
          "name": "stdout"
        }
      ]
    },
    {
      "cell_type": "markdown",
      "metadata": {
        "id": "du5xVX76ti1D"
      },
      "source": [
        "## Parâmetro/argumento da função\n",
        "\n",
        "é uma maneira de enviar dados para a função"
      ]
    },
    {
      "cell_type": "code",
      "metadata": {
        "id": "b7hsaq5xtYim",
        "outputId": "8da8b4d2-9cec-4586-a430-b735f5a3088a",
        "colab": {
          "base_uri": "https://localhost:8080/"
        }
      },
      "source": [
        "def mostrar_nome(nome_atual):\n",
        "  print(nome_atual)\n",
        "\n",
        "mostrar_nome('Jão1')\n",
        "mostrar_nome('jão2')\n",
        "mostrar_nome('jão3')"
      ],
      "execution_count": null,
      "outputs": [
        {
          "output_type": "stream",
          "text": [
            "Jão1\n",
            "jão2\n",
            "jão3\n"
          ],
          "name": "stdout"
        }
      ]
    },
    {
      "cell_type": "code",
      "metadata": {
        "id": "dPpgW_NVuKZl",
        "outputId": "8071525e-077a-45cc-d1c9-e7e6ca3c7819",
        "colab": {
          "base_uri": "https://localhost:8080/"
        }
      },
      "source": [
        "def calcular_media(nota1, nota2):\n",
        "  soma = nota1 + nota2\n",
        "  media = soma / 2\n",
        "  print(media)\n",
        "\n",
        "primeira_nota = float(input('sua primeira nota: '))\n",
        "segunda_nota = float(input('sua segunda nota: '))\n",
        "\n",
        "calcular_media(primeira_nota, segunda_nota)"
      ],
      "execution_count": null,
      "outputs": [
        {
          "output_type": "stream",
          "text": [
            "sua primeira nota: 8\n",
            "sua segunda nota: 9\n",
            "8.5\n"
          ],
          "name": "stdout"
        }
      ]
    },
    {
      "cell_type": "code",
      "metadata": {
        "id": "BB6h34pfvDhC"
      },
      "source": [
        ""
      ],
      "execution_count": null,
      "outputs": []
    }
  ]
}